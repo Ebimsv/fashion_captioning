{
 "cells": [
  {
   "cell_type": "code",
   "execution_count": 7,
   "id": "ef9f1d5b",
   "metadata": {},
   "outputs": [
    {
     "name": "stdout",
     "output_type": "stream",
     "text": [
      "Number of training samples:  8100\n",
      "Number of validation samples:  900\n",
      "254/254 [==============================] - 101s 175ms/step - loss: 4.7284 - acc: 0.2875 - val_loss: 4.1971 - val_acc: 0.3722\n"
     ]
    }
   ],
   "source": [
    "from tensorflow import keras\n",
    "import tensorflow as tf\n",
    "\n",
    "from config import config_title as config\n",
    "from text_utils import Vectorization\n",
    "from data_utils import load_captions_data, train_val_split, make_dataset, read_image\n",
    "from models import get_cnn_model, TransformerEncoderBlock, TransformerDecoderBlock, ImageCaptioningModel\n",
    "\n",
    "\"\"\" Preparing the dataset\"\"\"\n",
    "captions_mapping, text_data = load_captions_data(config['train_annotations_file'], split_char=config['split_char'])\n",
    "train_data, valid_data = train_val_split(captions_mapping)\n",
    "valid_images = list(valid_data.keys())\n",
    "\n",
    "print(\"Number of training samples: \", len(train_data))\n",
    "print(\"Number of validation samples: \", len(valid_data))\n",
    "\n",
    "\"\"\" Vectorization \"\"\"\n",
    "vectorization = Vectorization(config)\n",
    "vocab, vocab_size = vectorization.get_vocabulary(text_data)\n",
    "index_lookup = vectorization.index_lookup(vocab)\n",
    "\n",
    "train_dataset = make_dataset(list(train_data.keys()), list(train_data.values()), vectorization=vectorization)\n",
    "valid_dataset = make_dataset(list(valid_data.keys()), list(valid_data.values()), vectorization=vectorization)\n",
    "\n",
    "\"\"\" Build Models \"\"\"\n",
    "cnn_model = get_cnn_model()\n",
    "encoder = TransformerEncoderBlock(embed_dim=config['embed_dim'], dense_dim=config['ff_dim'],\n",
    "                                  num_heads=config['num_attention_heads'])\n",
    "decoder = TransformerDecoderBlock(embed_dim=config['embed_dim'], ff_dim=config['ff_dim'],\n",
    "                                  num_heads=config['num_attention_heads'], seq_len=config['seq_length'],\n",
    "                                  vocab_size=vocab_size)\n",
    "caption_model = ImageCaptioningModel(cnn_model=cnn_model, encoder=encoder, decoder=decoder)\n",
    "\n",
    "\"\"\" Training \"\"\"\n",
    "# loss function\n",
    "cross_entropy = keras.losses.SparseCategoricalCrossentropy(from_logits=True, reduction=\"none\")\n",
    "# callbacks\n",
    "early_stopping = keras.callbacks.EarlyStopping(patience=20, restore_best_weights=True)\n",
    "# checkpoint_callback = keras.callbacks.ModelCheckpoint(filepath=\"./checkpoints/callbacks\", monitor=\"val_loss\", verbose=0)\n",
    "tensorboard_callback = keras.callbacks.TensorBoard(log_dir=config['tensorboard_logs_dir'], histogram_freq=1)\n",
    "# compile model\n",
    "caption_model.compile(optimizer=keras.optimizers.Adam(), loss=cross_entropy)\n",
    "# start training loop\n",
    "history = caption_model.fit(train_dataset, epochs=1,\n",
    "                            validation_data=valid_dataset,\n",
    "                            callbacks=[early_stopping, tensorboard_callback])\n"
   ]
  },
  {
   "cell_type": "code",
   "execution_count": 9,
   "id": "c0e0f5d2",
   "metadata": {},
   "outputs": [],
   "source": [
    "caption_model.save_weights('weights/title/4_heads')"
   ]
  },
  {
   "cell_type": "code",
   "execution_count": 4,
   "id": "345e9ac8",
   "metadata": {},
   "outputs": [
    {
     "name": "stdout",
     "output_type": "stream",
     "text": [
      "Number of training samples:  8100\n",
      "Number of validation samples:  900\n"
     ]
    }
   ],
   "source": []
  },
  {
   "cell_type": "code",
   "execution_count": 7,
   "id": "7e327cf6",
   "metadata": {},
   "outputs": [
    {
     "data": {
      "image/png": "[encoded data removed]",
      "text/plain": [
       "<Figure size 432x288 with 1 Axes>"
      ]
     },
     "metadata": {
      "needs_background": "light"
     },
     "output_type": "display_data"
    }
   ],
   "source": [
    "import keras\n",
    "from matplotlib import pyplot as plt\n",
    "plt.figure()\n",
    "plt.plot(history.history['loss'])\n",
    "plt.plot(history.history['val_loss'])\n",
    "plt.title('model accuracy')\n",
    "plt.ylabel('accuracy')\n",
    "plt.xlabel('epoch')\n",
    "plt.legend(['train', 'val'], loc='upper left')\n",
    "plt.show()"
   ]
  },
  {
   "cell_type": "code",
   "execution_count": 8,
   "id": "552785c5",
   "metadata": {},
   "outputs": [
    {
     "data": {
      "text/plain": [
       "<Figure size 432x288 with 0 Axes>"
      ]
     },
     "metadata": {},
     "output_type": "display_data"
    }
   ],
   "source": [
    "plt.savefig('foo.png', bbox_inches='tight')"
   ]
  },
  {
   "cell_type": "code",
   "execution_count": null,
   "id": "9bc5b478",
   "metadata": {},
   "outputs": [],
   "source": [
    "# save model weights\n",
    "caption_model.save_weights(config['weights_path'], save_format='tf')"
   ]
  }
 ],
 "metadata": {
  "kernelspec": {
   "display_name": "Python 3",
   "language": "python",
   "name": "python3"
  },
  "language_info": {
   "codemirror_mode": {
    "name": "ipython",
    "version": 3
   },
   "file_extension": ".py",
   "mimetype": "text/x-python",
   "name": "python",
   "nbconvert_exporter": "python",
   "pygments_lexer": "ipython3",
   "version": "3.8.8"
  }
 },
 "nbformat": 4,
 "nbformat_minor": 5
}
